{
 "cells": [
  {
   "cell_type": "code",
   "execution_count": 1,
   "metadata": {},
   "outputs": [],
   "source": [
    "from collections import namedtuple"
   ]
  },
  {
   "cell_type": "markdown",
   "metadata": {},
   "source": [
    "1. Download URL \n",
    "2. Download folder (compressed file)\n",
    "3. Extract folder (Extracted file)\n",
    "4. Train Dataset folder \n",
    "5. Test Dataset folder\n"
   ]
  },
  {
   "cell_type": "code",
   "execution_count": 2,
   "metadata": {},
   "outputs": [],
   "source": [
    "DataIngestionConfig = namedtuple('DataIngestionConfig',\n",
    "                                    ['dataset_download_url',\"tgz_download_dir\",\"raw_data_dir\",\"ingested_train_dir\",\"ingested_test_dir\"])"
   ]
  },
  {
   "cell_type": "code",
   "execution_count": 4,
   "metadata": {},
   "outputs": [],
   "source": [
    "data_inegstion_config = DataIngestionConfig(dataset_download_url=\"asdfg\",\n",
    "                    tgz_download_dir=\"asdfg\",\n",
    "                    raw_data_dir=\"asdfg\",\n",
    "                    ingested_train_dir=\"asdfg\",\n",
    "                    ingested_test_dir=\"asdfg\"\n",
    "                    )\n"
   ]
  },
  {
   "cell_type": "code",
   "execution_count": 5,
   "metadata": {},
   "outputs": [
    {
     "data": {
      "text/plain": [
       "DataIngestionConfig(dataset_download_url='asdfg', tgz_download_dir='asdfg', raw_data_dir='asdfg', ingested_train_dir='asdfg', ingested_test_dir='asdfg')"
      ]
     },
     "execution_count": 5,
     "metadata": {},
     "output_type": "execute_result"
    }
   ],
   "source": [
    "data_inegstion_config"
   ]
  },
  {
   "cell_type": "code",
   "execution_count": null,
   "metadata": {},
   "outputs": [],
   "source": []
  }
 ],
 "metadata": {
  "kernelspec": {
   "display_name": "Python 3.8.13",
   "language": "python",
   "name": "python3"
  },
  "language_info": {
   "codemirror_mode": {
    "name": "ipython",
    "version": 3
   },
   "file_extension": ".py",
   "mimetype": "text/x-python",
   "name": "python",
   "nbconvert_exporter": "python",
   "pygments_lexer": "ipython3",
   "version": "3.8.13"
  },
  "orig_nbformat": 4,
  "vscode": {
   "interpreter": {
    "hash": "d337d9ec9b420c4ebd25e4cee7190a2a86aafc56622bbcc8b7ddc7553351af80"
   }
  }
 },
 "nbformat": 4,
 "nbformat_minor": 2
}
